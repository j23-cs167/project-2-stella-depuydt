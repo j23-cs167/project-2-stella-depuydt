{
  "nbformat": 4,
  "nbformat_minor": 0,
  "metadata": {
    "colab": {
      "provenance": [],
      "include_colab_link": true
    },
    "kernelspec": {
      "name": "python3",
      "display_name": "Python 3"
    },
    "language_info": {
      "name": "python"
    },
    "gpuClass": "standard"
  },
  "cells": [
    {
      "cell_type": "markdown",
      "metadata": {
        "id": "view-in-github",
        "colab_type": "text"
      },
      "source": [
        "<a href=\"https://colab.research.google.com/github/j23-cs167/project-2-stella-depuydt/blob/main/New_Project2_Depuydt.ipynb\" target=\"_parent\"><img src=\"https://colab.research.google.com/assets/colab-badge.svg\" alt=\"Open In Colab\"/></a>"
      ]
    },
    {
      "cell_type": "markdown",
      "source": [
        "# Project #2\n",
        "##Name: Stella Depuydt\n",
        "\n",
        "Proposed Points (out of 25): 23\n",
        "\n",
        "Description/Writing\tI think I deserve\t\n",
        "1: Problem\t2/2\t\t\n",
        "2: Data Prep\t2/2\t\t\n",
        "3: Research\t10/10\t\n",
        "4: Analysis\t8/10\t\n",
        "5: Bumps in the Road.\t1/1\t\n",
        "Total\t23/25"
      ],
      "metadata": {
        "id": "rIepkBIuT_Pl"
      }
    },
    {
      "cell_type": "markdown",
      "source": [
        "# 1. Problem\n",
        "State the problem you are trying to solve with this machine learning experiment. Include a description of the data, where you got the data, and what you're trying to predict.."
      ],
      "metadata": {
        "id": "HbwKLNhzP8YO"
      }
    },
    {
      "cell_type": "markdown",
      "source": [
        "The data I'm using for this project came from one of the datasets recommended for project 1. It is the avocado dataset, and I decided to work with it because there are no strings in the dataframe, and hopefully there will be less issues with analyzing it. I also like guac.\n",
        "\n",
        "**My research question for this project is to predict which variable most significntly predicts the total number of avocados sold.**\n",
        "\n",
        "The target variable is Total number of avocados sold (Total volume). The predictor variables are title, authors, (isbn, isbn-13), language code, number of pages, ratings count, and text reviews count. Since the variables being analyzed are numerical (not categorical) variables, this is a regression problem.\n",
        "\n",
        "Note:\n",
        "\n",
        "4046 = small Hass (avocados)\n",
        "\n",
        "4225 = large Hass (avocados)\n",
        "\n",
        "4770 = extra large Hass (avocados)"
      ],
      "metadata": {
        "id": "LwseoUsMmCz2"
      }
    },
    {
      "cell_type": "markdown",
      "source": [
        "# 2. Data Preparation\n",
        "Explain your data preparation. What did you have to do to get your data in shape for your experiments? Why are you certain that you data is clean and prepared for use in your algorithms?"
      ],
      "metadata": {
        "id": "qR_foVOeQVL7"
      }
    },
    {
      "cell_type": "markdown",
      "source": [
        "After I loaded in my data, I checked for missing values (There weren't any). Then I removed the ID number since ID numbers starting at zero are automatically assigned. I also dropped date, type, and region. "
      ],
      "metadata": {
        "id": "aMDJDnW_mOWu"
      }
    },
    {
      "cell_type": "code",
      "source": [
        "# load and prepare your data here\n",
        "from google.colab import drive\n",
        "import pandas as pd\n",
        "drive.mount('/content/drive')\n",
        "\n",
        "\n",
        "avocado_data = pd.read_csv('/content/drive/MyDrive/Datasets/avocado.csv')\n",
        "avocado_data.head(20)\n",
        "\n"
      ],
      "metadata": {
        "id": "9dUdBChRmKxR",
        "colab": {
          "base_uri": "https://localhost:8080/",
          "height": 694
        },
        "outputId": "3f96ce30-9c01-4fa4-9bae-1e145fc60dfb"
      },
      "execution_count": 1,
      "outputs": [
        {
          "output_type": "stream",
          "name": "stdout",
          "text": [
            "Mounted at /content/drive\n"
          ]
        },
        {
          "output_type": "execute_result",
          "data": {
            "text/plain": [
              "    Unnamed: 0        Date  AveragePrice  Total Volume     4046       4225  \\\n",
              "0            0  2015-12-27          1.33      64236.62  1036.74   54454.85   \n",
              "1            1  2015-12-20          1.35      54876.98   674.28   44638.81   \n",
              "2            2  2015-12-13          0.93     118220.22   794.70  109149.67   \n",
              "3            3  2015-12-06          1.08      78992.15  1132.00   71976.41   \n",
              "4            4  2015-11-29          1.28      51039.60   941.48   43838.39   \n",
              "5            5  2015-11-22          1.26      55979.78  1184.27   48067.99   \n",
              "6            6  2015-11-15          0.99      83453.76  1368.92   73672.72   \n",
              "7            7  2015-11-08          0.98     109428.33   703.75  101815.36   \n",
              "8            8  2015-11-01          1.02      99811.42  1022.15   87315.57   \n",
              "9            9  2015-10-25          1.07      74338.76   842.40   64757.44   \n",
              "10          10  2015-10-18          1.12      84843.44   924.86   75595.85   \n",
              "11          11  2015-10-11          1.28      64489.17  1582.03   52677.92   \n",
              "12          12  2015-10-04          1.31      61007.10  2268.32   49880.67   \n",
              "13          13  2015-09-27          0.99     106803.39  1204.88   99409.21   \n",
              "14          14  2015-09-20          1.33      69759.01  1028.03   59313.12   \n",
              "15          15  2015-09-13          1.28      76111.27   985.73   65696.86   \n",
              "16          16  2015-09-06          1.11      99172.96   879.45   90062.62   \n",
              "17          17  2015-08-30          1.07     105693.84   689.01   94362.67   \n",
              "18          18  2015-08-23          1.34      79992.09   733.16   67933.79   \n",
              "19          19  2015-08-16          1.33      80043.78   539.65   68666.01   \n",
              "\n",
              "      4770  Total Bags  Small Bags  Large Bags  XLarge Bags          type  \\\n",
              "0    48.16     8696.87     8603.62       93.25          0.0  conventional   \n",
              "1    58.33     9505.56     9408.07       97.49          0.0  conventional   \n",
              "2   130.50     8145.35     8042.21      103.14          0.0  conventional   \n",
              "3    72.58     5811.16     5677.40      133.76          0.0  conventional   \n",
              "4    75.78     6183.95     5986.26      197.69          0.0  conventional   \n",
              "5    43.61     6683.91     6556.47      127.44          0.0  conventional   \n",
              "6    93.26     8318.86     8196.81      122.05          0.0  conventional   \n",
              "7    80.00     6829.22     6266.85      562.37          0.0  conventional   \n",
              "8    85.34    11388.36    11104.53      283.83          0.0  conventional   \n",
              "9   113.00     8625.92     8061.47      564.45          0.0  conventional   \n",
              "10  117.07     8205.66     7877.86      327.80          0.0  conventional   \n",
              "11  105.32    10123.90     9866.27      257.63          0.0  conventional   \n",
              "12  101.36     8756.75     8379.98      376.77          0.0  conventional   \n",
              "13  154.84     6034.46     5888.87      145.59          0.0  conventional   \n",
              "14  150.50     9267.36     8489.10      778.26          0.0  conventional   \n",
              "15  142.00     9286.68     8665.19      621.49          0.0  conventional   \n",
              "16  240.79     7990.10     7762.87      227.23          0.0  conventional   \n",
              "17  335.43    10306.73    10218.93       87.80          0.0  conventional   \n",
              "18  444.78    10880.36    10745.79      134.57          0.0  conventional   \n",
              "19  394.90    10443.22    10297.68      145.54          0.0  conventional   \n",
              "\n",
              "    year  region  \n",
              "0   2015  Albany  \n",
              "1   2015  Albany  \n",
              "2   2015  Albany  \n",
              "3   2015  Albany  \n",
              "4   2015  Albany  \n",
              "5   2015  Albany  \n",
              "6   2015  Albany  \n",
              "7   2015  Albany  \n",
              "8   2015  Albany  \n",
              "9   2015  Albany  \n",
              "10  2015  Albany  \n",
              "11  2015  Albany  \n",
              "12  2015  Albany  \n",
              "13  2015  Albany  \n",
              "14  2015  Albany  \n",
              "15  2015  Albany  \n",
              "16  2015  Albany  \n",
              "17  2015  Albany  \n",
              "18  2015  Albany  \n",
              "19  2015  Albany  "
            ],
            "text/html": [
              "\n",
              "  <div id=\"df-f9d814a2-7079-46f5-8032-39b7837c55f3\">\n",
              "    <div class=\"colab-df-container\">\n",
              "      <div>\n",
              "<style scoped>\n",
              "    .dataframe tbody tr th:only-of-type {\n",
              "        vertical-align: middle;\n",
              "    }\n",
              "\n",
              "    .dataframe tbody tr th {\n",
              "        vertical-align: top;\n",
              "    }\n",
              "\n",
              "    .dataframe thead th {\n",
              "        text-align: right;\n",
              "    }\n",
              "</style>\n",
              "<table border=\"1\" class=\"dataframe\">\n",
              "  <thead>\n",
              "    <tr style=\"text-align: right;\">\n",
              "      <th></th>\n",
              "      <th>Unnamed: 0</th>\n",
              "      <th>Date</th>\n",
              "      <th>AveragePrice</th>\n",
              "      <th>Total Volume</th>\n",
              "      <th>4046</th>\n",
              "      <th>4225</th>\n",
              "      <th>4770</th>\n",
              "      <th>Total Bags</th>\n",
              "      <th>Small Bags</th>\n",
              "      <th>Large Bags</th>\n",
              "      <th>XLarge Bags</th>\n",
              "      <th>type</th>\n",
              "      <th>year</th>\n",
              "      <th>region</th>\n",
              "    </tr>\n",
              "  </thead>\n",
              "  <tbody>\n",
              "    <tr>\n",
              "      <th>0</th>\n",
              "      <td>0</td>\n",
              "      <td>2015-12-27</td>\n",
              "      <td>1.33</td>\n",
              "      <td>64236.62</td>\n",
              "      <td>1036.74</td>\n",
              "      <td>54454.85</td>\n",
              "      <td>48.16</td>\n",
              "      <td>8696.87</td>\n",
              "      <td>8603.62</td>\n",
              "      <td>93.25</td>\n",
              "      <td>0.0</td>\n",
              "      <td>conventional</td>\n",
              "      <td>2015</td>\n",
              "      <td>Albany</td>\n",
              "    </tr>\n",
              "    <tr>\n",
              "      <th>1</th>\n",
              "      <td>1</td>\n",
              "      <td>2015-12-20</td>\n",
              "      <td>1.35</td>\n",
              "      <td>54876.98</td>\n",
              "      <td>674.28</td>\n",
              "      <td>44638.81</td>\n",
              "      <td>58.33</td>\n",
              "      <td>9505.56</td>\n",
              "      <td>9408.07</td>\n",
              "      <td>97.49</td>\n",
              "      <td>0.0</td>\n",
              "      <td>conventional</td>\n",
              "      <td>2015</td>\n",
              "      <td>Albany</td>\n",
              "    </tr>\n",
              "    <tr>\n",
              "      <th>2</th>\n",
              "      <td>2</td>\n",
              "      <td>2015-12-13</td>\n",
              "      <td>0.93</td>\n",
              "      <td>118220.22</td>\n",
              "      <td>794.70</td>\n",
              "      <td>109149.67</td>\n",
              "      <td>130.50</td>\n",
              "      <td>8145.35</td>\n",
              "      <td>8042.21</td>\n",
              "      <td>103.14</td>\n",
              "      <td>0.0</td>\n",
              "      <td>conventional</td>\n",
              "      <td>2015</td>\n",
              "      <td>Albany</td>\n",
              "    </tr>\n",
              "    <tr>\n",
              "      <th>3</th>\n",
              "      <td>3</td>\n",
              "      <td>2015-12-06</td>\n",
              "      <td>1.08</td>\n",
              "      <td>78992.15</td>\n",
              "      <td>1132.00</td>\n",
              "      <td>71976.41</td>\n",
              "      <td>72.58</td>\n",
              "      <td>5811.16</td>\n",
              "      <td>5677.40</td>\n",
              "      <td>133.76</td>\n",
              "      <td>0.0</td>\n",
              "      <td>conventional</td>\n",
              "      <td>2015</td>\n",
              "      <td>Albany</td>\n",
              "    </tr>\n",
              "    <tr>\n",
              "      <th>4</th>\n",
              "      <td>4</td>\n",
              "      <td>2015-11-29</td>\n",
              "      <td>1.28</td>\n",
              "      <td>51039.60</td>\n",
              "      <td>941.48</td>\n",
              "      <td>43838.39</td>\n",
              "      <td>75.78</td>\n",
              "      <td>6183.95</td>\n",
              "      <td>5986.26</td>\n",
              "      <td>197.69</td>\n",
              "      <td>0.0</td>\n",
              "      <td>conventional</td>\n",
              "      <td>2015</td>\n",
              "      <td>Albany</td>\n",
              "    </tr>\n",
              "    <tr>\n",
              "      <th>5</th>\n",
              "      <td>5</td>\n",
              "      <td>2015-11-22</td>\n",
              "      <td>1.26</td>\n",
              "      <td>55979.78</td>\n",
              "      <td>1184.27</td>\n",
              "      <td>48067.99</td>\n",
              "      <td>43.61</td>\n",
              "      <td>6683.91</td>\n",
              "      <td>6556.47</td>\n",
              "      <td>127.44</td>\n",
              "      <td>0.0</td>\n",
              "      <td>conventional</td>\n",
              "      <td>2015</td>\n",
              "      <td>Albany</td>\n",
              "    </tr>\n",
              "    <tr>\n",
              "      <th>6</th>\n",
              "      <td>6</td>\n",
              "      <td>2015-11-15</td>\n",
              "      <td>0.99</td>\n",
              "      <td>83453.76</td>\n",
              "      <td>1368.92</td>\n",
              "      <td>73672.72</td>\n",
              "      <td>93.26</td>\n",
              "      <td>8318.86</td>\n",
              "      <td>8196.81</td>\n",
              "      <td>122.05</td>\n",
              "      <td>0.0</td>\n",
              "      <td>conventional</td>\n",
              "      <td>2015</td>\n",
              "      <td>Albany</td>\n",
              "    </tr>\n",
              "    <tr>\n",
              "      <th>7</th>\n",
              "      <td>7</td>\n",
              "      <td>2015-11-08</td>\n",
              "      <td>0.98</td>\n",
              "      <td>109428.33</td>\n",
              "      <td>703.75</td>\n",
              "      <td>101815.36</td>\n",
              "      <td>80.00</td>\n",
              "      <td>6829.22</td>\n",
              "      <td>6266.85</td>\n",
              "      <td>562.37</td>\n",
              "      <td>0.0</td>\n",
              "      <td>conventional</td>\n",
              "      <td>2015</td>\n",
              "      <td>Albany</td>\n",
              "    </tr>\n",
              "    <tr>\n",
              "      <th>8</th>\n",
              "      <td>8</td>\n",
              "      <td>2015-11-01</td>\n",
              "      <td>1.02</td>\n",
              "      <td>99811.42</td>\n",
              "      <td>1022.15</td>\n",
              "      <td>87315.57</td>\n",
              "      <td>85.34</td>\n",
              "      <td>11388.36</td>\n",
              "      <td>11104.53</td>\n",
              "      <td>283.83</td>\n",
              "      <td>0.0</td>\n",
              "      <td>conventional</td>\n",
              "      <td>2015</td>\n",
              "      <td>Albany</td>\n",
              "    </tr>\n",
              "    <tr>\n",
              "      <th>9</th>\n",
              "      <td>9</td>\n",
              "      <td>2015-10-25</td>\n",
              "      <td>1.07</td>\n",
              "      <td>74338.76</td>\n",
              "      <td>842.40</td>\n",
              "      <td>64757.44</td>\n",
              "      <td>113.00</td>\n",
              "      <td>8625.92</td>\n",
              "      <td>8061.47</td>\n",
              "      <td>564.45</td>\n",
              "      <td>0.0</td>\n",
              "      <td>conventional</td>\n",
              "      <td>2015</td>\n",
              "      <td>Albany</td>\n",
              "    </tr>\n",
              "    <tr>\n",
              "      <th>10</th>\n",
              "      <td>10</td>\n",
              "      <td>2015-10-18</td>\n",
              "      <td>1.12</td>\n",
              "      <td>84843.44</td>\n",
              "      <td>924.86</td>\n",
              "      <td>75595.85</td>\n",
              "      <td>117.07</td>\n",
              "      <td>8205.66</td>\n",
              "      <td>7877.86</td>\n",
              "      <td>327.80</td>\n",
              "      <td>0.0</td>\n",
              "      <td>conventional</td>\n",
              "      <td>2015</td>\n",
              "      <td>Albany</td>\n",
              "    </tr>\n",
              "    <tr>\n",
              "      <th>11</th>\n",
              "      <td>11</td>\n",
              "      <td>2015-10-11</td>\n",
              "      <td>1.28</td>\n",
              "      <td>64489.17</td>\n",
              "      <td>1582.03</td>\n",
              "      <td>52677.92</td>\n",
              "      <td>105.32</td>\n",
              "      <td>10123.90</td>\n",
              "      <td>9866.27</td>\n",
              "      <td>257.63</td>\n",
              "      <td>0.0</td>\n",
              "      <td>conventional</td>\n",
              "      <td>2015</td>\n",
              "      <td>Albany</td>\n",
              "    </tr>\n",
              "    <tr>\n",
              "      <th>12</th>\n",
              "      <td>12</td>\n",
              "      <td>2015-10-04</td>\n",
              "      <td>1.31</td>\n",
              "      <td>61007.10</td>\n",
              "      <td>2268.32</td>\n",
              "      <td>49880.67</td>\n",
              "      <td>101.36</td>\n",
              "      <td>8756.75</td>\n",
              "      <td>8379.98</td>\n",
              "      <td>376.77</td>\n",
              "      <td>0.0</td>\n",
              "      <td>conventional</td>\n",
              "      <td>2015</td>\n",
              "      <td>Albany</td>\n",
              "    </tr>\n",
              "    <tr>\n",
              "      <th>13</th>\n",
              "      <td>13</td>\n",
              "      <td>2015-09-27</td>\n",
              "      <td>0.99</td>\n",
              "      <td>106803.39</td>\n",
              "      <td>1204.88</td>\n",
              "      <td>99409.21</td>\n",
              "      <td>154.84</td>\n",
              "      <td>6034.46</td>\n",
              "      <td>5888.87</td>\n",
              "      <td>145.59</td>\n",
              "      <td>0.0</td>\n",
              "      <td>conventional</td>\n",
              "      <td>2015</td>\n",
              "      <td>Albany</td>\n",
              "    </tr>\n",
              "    <tr>\n",
              "      <th>14</th>\n",
              "      <td>14</td>\n",
              "      <td>2015-09-20</td>\n",
              "      <td>1.33</td>\n",
              "      <td>69759.01</td>\n",
              "      <td>1028.03</td>\n",
              "      <td>59313.12</td>\n",
              "      <td>150.50</td>\n",
              "      <td>9267.36</td>\n",
              "      <td>8489.10</td>\n",
              "      <td>778.26</td>\n",
              "      <td>0.0</td>\n",
              "      <td>conventional</td>\n",
              "      <td>2015</td>\n",
              "      <td>Albany</td>\n",
              "    </tr>\n",
              "    <tr>\n",
              "      <th>15</th>\n",
              "      <td>15</td>\n",
              "      <td>2015-09-13</td>\n",
              "      <td>1.28</td>\n",
              "      <td>76111.27</td>\n",
              "      <td>985.73</td>\n",
              "      <td>65696.86</td>\n",
              "      <td>142.00</td>\n",
              "      <td>9286.68</td>\n",
              "      <td>8665.19</td>\n",
              "      <td>621.49</td>\n",
              "      <td>0.0</td>\n",
              "      <td>conventional</td>\n",
              "      <td>2015</td>\n",
              "      <td>Albany</td>\n",
              "    </tr>\n",
              "    <tr>\n",
              "      <th>16</th>\n",
              "      <td>16</td>\n",
              "      <td>2015-09-06</td>\n",
              "      <td>1.11</td>\n",
              "      <td>99172.96</td>\n",
              "      <td>879.45</td>\n",
              "      <td>90062.62</td>\n",
              "      <td>240.79</td>\n",
              "      <td>7990.10</td>\n",
              "      <td>7762.87</td>\n",
              "      <td>227.23</td>\n",
              "      <td>0.0</td>\n",
              "      <td>conventional</td>\n",
              "      <td>2015</td>\n",
              "      <td>Albany</td>\n",
              "    </tr>\n",
              "    <tr>\n",
              "      <th>17</th>\n",
              "      <td>17</td>\n",
              "      <td>2015-08-30</td>\n",
              "      <td>1.07</td>\n",
              "      <td>105693.84</td>\n",
              "      <td>689.01</td>\n",
              "      <td>94362.67</td>\n",
              "      <td>335.43</td>\n",
              "      <td>10306.73</td>\n",
              "      <td>10218.93</td>\n",
              "      <td>87.80</td>\n",
              "      <td>0.0</td>\n",
              "      <td>conventional</td>\n",
              "      <td>2015</td>\n",
              "      <td>Albany</td>\n",
              "    </tr>\n",
              "    <tr>\n",
              "      <th>18</th>\n",
              "      <td>18</td>\n",
              "      <td>2015-08-23</td>\n",
              "      <td>1.34</td>\n",
              "      <td>79992.09</td>\n",
              "      <td>733.16</td>\n",
              "      <td>67933.79</td>\n",
              "      <td>444.78</td>\n",
              "      <td>10880.36</td>\n",
              "      <td>10745.79</td>\n",
              "      <td>134.57</td>\n",
              "      <td>0.0</td>\n",
              "      <td>conventional</td>\n",
              "      <td>2015</td>\n",
              "      <td>Albany</td>\n",
              "    </tr>\n",
              "    <tr>\n",
              "      <th>19</th>\n",
              "      <td>19</td>\n",
              "      <td>2015-08-16</td>\n",
              "      <td>1.33</td>\n",
              "      <td>80043.78</td>\n",
              "      <td>539.65</td>\n",
              "      <td>68666.01</td>\n",
              "      <td>394.90</td>\n",
              "      <td>10443.22</td>\n",
              "      <td>10297.68</td>\n",
              "      <td>145.54</td>\n",
              "      <td>0.0</td>\n",
              "      <td>conventional</td>\n",
              "      <td>2015</td>\n",
              "      <td>Albany</td>\n",
              "    </tr>\n",
              "  </tbody>\n",
              "</table>\n",
              "</div>\n",
              "      <button class=\"colab-df-convert\" onclick=\"convertToInteractive('df-f9d814a2-7079-46f5-8032-39b7837c55f3')\"\n",
              "              title=\"Convert this dataframe to an interactive table.\"\n",
              "              style=\"display:none;\">\n",
              "        \n",
              "  <svg xmlns=\"http://www.w3.org/2000/svg\" height=\"24px\"viewBox=\"0 0 24 24\"\n",
              "       width=\"24px\">\n",
              "    <path d=\"M0 0h24v24H0V0z\" fill=\"none\"/>\n",
              "    <path d=\"M18.56 5.44l.94 2.06.94-2.06 2.06-.94-2.06-.94-.94-2.06-.94 2.06-2.06.94zm-11 1L8.5 8.5l.94-2.06 2.06-.94-2.06-.94L8.5 2.5l-.94 2.06-2.06.94zm10 10l.94 2.06.94-2.06 2.06-.94-2.06-.94-.94-2.06-.94 2.06-2.06.94z\"/><path d=\"M17.41 7.96l-1.37-1.37c-.4-.4-.92-.59-1.43-.59-.52 0-1.04.2-1.43.59L10.3 9.45l-7.72 7.72c-.78.78-.78 2.05 0 2.83L4 21.41c.39.39.9.59 1.41.59.51 0 1.02-.2 1.41-.59l7.78-7.78 2.81-2.81c.8-.78.8-2.07 0-2.86zM5.41 20L4 18.59l7.72-7.72 1.47 1.35L5.41 20z\"/>\n",
              "  </svg>\n",
              "      </button>\n",
              "      \n",
              "  <style>\n",
              "    .colab-df-container {\n",
              "      display:flex;\n",
              "      flex-wrap:wrap;\n",
              "      gap: 12px;\n",
              "    }\n",
              "\n",
              "    .colab-df-convert {\n",
              "      background-color: #E8F0FE;\n",
              "      border: none;\n",
              "      border-radius: 50%;\n",
              "      cursor: pointer;\n",
              "      display: none;\n",
              "      fill: #1967D2;\n",
              "      height: 32px;\n",
              "      padding: 0 0 0 0;\n",
              "      width: 32px;\n",
              "    }\n",
              "\n",
              "    .colab-df-convert:hover {\n",
              "      background-color: #E2EBFA;\n",
              "      box-shadow: 0px 1px 2px rgba(60, 64, 67, 0.3), 0px 1px 3px 1px rgba(60, 64, 67, 0.15);\n",
              "      fill: #174EA6;\n",
              "    }\n",
              "\n",
              "    [theme=dark] .colab-df-convert {\n",
              "      background-color: #3B4455;\n",
              "      fill: #D2E3FC;\n",
              "    }\n",
              "\n",
              "    [theme=dark] .colab-df-convert:hover {\n",
              "      background-color: #434B5C;\n",
              "      box-shadow: 0px 1px 3px 1px rgba(0, 0, 0, 0.15);\n",
              "      filter: drop-shadow(0px 1px 2px rgba(0, 0, 0, 0.3));\n",
              "      fill: #FFFFFF;\n",
              "    }\n",
              "  </style>\n",
              "\n",
              "      <script>\n",
              "        const buttonEl =\n",
              "          document.querySelector('#df-f9d814a2-7079-46f5-8032-39b7837c55f3 button.colab-df-convert');\n",
              "        buttonEl.style.display =\n",
              "          google.colab.kernel.accessAllowed ? 'block' : 'none';\n",
              "\n",
              "        async function convertToInteractive(key) {\n",
              "          const element = document.querySelector('#df-f9d814a2-7079-46f5-8032-39b7837c55f3');\n",
              "          const dataTable =\n",
              "            await google.colab.kernel.invokeFunction('convertToInteractive',\n",
              "                                                     [key], {});\n",
              "          if (!dataTable) return;\n",
              "\n",
              "          const docLinkHtml = 'Like what you see? Visit the ' +\n",
              "            '<a target=\"_blank\" href=https://colab.research.google.com/notebooks/data_table.ipynb>data table notebook</a>'\n",
              "            + ' to learn more about interactive tables.';\n",
              "          element.innerHTML = '';\n",
              "          dataTable['output_type'] = 'display_data';\n",
              "          await google.colab.output.renderOutput(dataTable, element);\n",
              "          const docLink = document.createElement('div');\n",
              "          docLink.innerHTML = docLinkHtml;\n",
              "          element.appendChild(docLink);\n",
              "        }\n",
              "      </script>\n",
              "    </div>\n",
              "  </div>\n",
              "  "
            ]
          },
          "metadata": {},
          "execution_count": 1
        }
      ]
    },
    {
      "cell_type": "code",
      "source": [
        "avocado_data.columns"
      ],
      "metadata": {
        "colab": {
          "base_uri": "https://localhost:8080/"
        },
        "id": "DUeD7NznX6ZJ",
        "outputId": "d1a91546-bc56-43e5-c9d5-c1b7bf0fdb2e"
      },
      "execution_count": 3,
      "outputs": [
        {
          "output_type": "execute_result",
          "data": {
            "text/plain": [
              "Index(['Unnamed: 0', 'Date', 'AveragePrice', 'Total Volume', '4046', '4225',\n",
              "       '4770', 'Total Bags', 'Small Bags', 'Large Bags', 'XLarge Bags', 'type',\n",
              "       'year', 'region'],\n",
              "      dtype='object')"
            ]
          },
          "metadata": {},
          "execution_count": 3
        }
      ]
    },
    {
      "cell_type": "code",
      "source": [
        "avocado_data.isna().any()\n",
        "\n",
        "\n"
      ],
      "metadata": {
        "colab": {
          "base_uri": "https://localhost:8080/"
        },
        "id": "FPLVCOpHYDUd",
        "outputId": "9f9a01de-22de-438a-866f-f91dbceea031"
      },
      "execution_count": 4,
      "outputs": [
        {
          "output_type": "execute_result",
          "data": {
            "text/plain": [
              "Unnamed: 0      False\n",
              "Date            False\n",
              "AveragePrice    False\n",
              "Total Volume    False\n",
              "4046            False\n",
              "4225            False\n",
              "4770            False\n",
              "Total Bags      False\n",
              "Small Bags      False\n",
              "Large Bags      False\n",
              "XLarge Bags     False\n",
              "type            False\n",
              "year            False\n",
              "region          False\n",
              "dtype: bool"
            ]
          },
          "metadata": {},
          "execution_count": 4
        }
      ]
    },
    {
      "cell_type": "code",
      "source": [
        "avocado_data = avocado_data[['Date', 'AveragePrice', 'Total Volume', '4046', '4225',\n",
        "       '4770', 'Total Bags', 'Small Bags', 'Large Bags', 'XLarge Bags', 'type',\n",
        "       'year', 'region']]\n",
        "avocado_data.head()"
      ],
      "metadata": {
        "colab": {
          "base_uri": "https://localhost:8080/",
          "height": 206
        },
        "id": "VSMfimj-cuTz",
        "outputId": "ca8a7f73-4d07-487c-d113-48da97afe37a"
      },
      "execution_count": 6,
      "outputs": [
        {
          "output_type": "execute_result",
          "data": {
            "text/plain": [
              "         Date  AveragePrice  Total Volume     4046       4225    4770  \\\n",
              "0  2015-12-27          1.33      64236.62  1036.74   54454.85   48.16   \n",
              "1  2015-12-20          1.35      54876.98   674.28   44638.81   58.33   \n",
              "2  2015-12-13          0.93     118220.22   794.70  109149.67  130.50   \n",
              "3  2015-12-06          1.08      78992.15  1132.00   71976.41   72.58   \n",
              "4  2015-11-29          1.28      51039.60   941.48   43838.39   75.78   \n",
              "\n",
              "   Total Bags  Small Bags  Large Bags  XLarge Bags          type  year  region  \n",
              "0     8696.87     8603.62       93.25          0.0  conventional  2015  Albany  \n",
              "1     9505.56     9408.07       97.49          0.0  conventional  2015  Albany  \n",
              "2     8145.35     8042.21      103.14          0.0  conventional  2015  Albany  \n",
              "3     5811.16     5677.40      133.76          0.0  conventional  2015  Albany  \n",
              "4     6183.95     5986.26      197.69          0.0  conventional  2015  Albany  "
            ],
            "text/html": [
              "\n",
              "  <div id=\"df-e2330bd4-ca73-47f1-bc0f-a5a631385d54\">\n",
              "    <div class=\"colab-df-container\">\n",
              "      <div>\n",
              "<style scoped>\n",
              "    .dataframe tbody tr th:only-of-type {\n",
              "        vertical-align: middle;\n",
              "    }\n",
              "\n",
              "    .dataframe tbody tr th {\n",
              "        vertical-align: top;\n",
              "    }\n",
              "\n",
              "    .dataframe thead th {\n",
              "        text-align: right;\n",
              "    }\n",
              "</style>\n",
              "<table border=\"1\" class=\"dataframe\">\n",
              "  <thead>\n",
              "    <tr style=\"text-align: right;\">\n",
              "      <th></th>\n",
              "      <th>Date</th>\n",
              "      <th>AveragePrice</th>\n",
              "      <th>Total Volume</th>\n",
              "      <th>4046</th>\n",
              "      <th>4225</th>\n",
              "      <th>4770</th>\n",
              "      <th>Total Bags</th>\n",
              "      <th>Small Bags</th>\n",
              "      <th>Large Bags</th>\n",
              "      <th>XLarge Bags</th>\n",
              "      <th>type</th>\n",
              "      <th>year</th>\n",
              "      <th>region</th>\n",
              "    </tr>\n",
              "  </thead>\n",
              "  <tbody>\n",
              "    <tr>\n",
              "      <th>0</th>\n",
              "      <td>2015-12-27</td>\n",
              "      <td>1.33</td>\n",
              "      <td>64236.62</td>\n",
              "      <td>1036.74</td>\n",
              "      <td>54454.85</td>\n",
              "      <td>48.16</td>\n",
              "      <td>8696.87</td>\n",
              "      <td>8603.62</td>\n",
              "      <td>93.25</td>\n",
              "      <td>0.0</td>\n",
              "      <td>conventional</td>\n",
              "      <td>2015</td>\n",
              "      <td>Albany</td>\n",
              "    </tr>\n",
              "    <tr>\n",
              "      <th>1</th>\n",
              "      <td>2015-12-20</td>\n",
              "      <td>1.35</td>\n",
              "      <td>54876.98</td>\n",
              "      <td>674.28</td>\n",
              "      <td>44638.81</td>\n",
              "      <td>58.33</td>\n",
              "      <td>9505.56</td>\n",
              "      <td>9408.07</td>\n",
              "      <td>97.49</td>\n",
              "      <td>0.0</td>\n",
              "      <td>conventional</td>\n",
              "      <td>2015</td>\n",
              "      <td>Albany</td>\n",
              "    </tr>\n",
              "    <tr>\n",
              "      <th>2</th>\n",
              "      <td>2015-12-13</td>\n",
              "      <td>0.93</td>\n",
              "      <td>118220.22</td>\n",
              "      <td>794.70</td>\n",
              "      <td>109149.67</td>\n",
              "      <td>130.50</td>\n",
              "      <td>8145.35</td>\n",
              "      <td>8042.21</td>\n",
              "      <td>103.14</td>\n",
              "      <td>0.0</td>\n",
              "      <td>conventional</td>\n",
              "      <td>2015</td>\n",
              "      <td>Albany</td>\n",
              "    </tr>\n",
              "    <tr>\n",
              "      <th>3</th>\n",
              "      <td>2015-12-06</td>\n",
              "      <td>1.08</td>\n",
              "      <td>78992.15</td>\n",
              "      <td>1132.00</td>\n",
              "      <td>71976.41</td>\n",
              "      <td>72.58</td>\n",
              "      <td>5811.16</td>\n",
              "      <td>5677.40</td>\n",
              "      <td>133.76</td>\n",
              "      <td>0.0</td>\n",
              "      <td>conventional</td>\n",
              "      <td>2015</td>\n",
              "      <td>Albany</td>\n",
              "    </tr>\n",
              "    <tr>\n",
              "      <th>4</th>\n",
              "      <td>2015-11-29</td>\n",
              "      <td>1.28</td>\n",
              "      <td>51039.60</td>\n",
              "      <td>941.48</td>\n",
              "      <td>43838.39</td>\n",
              "      <td>75.78</td>\n",
              "      <td>6183.95</td>\n",
              "      <td>5986.26</td>\n",
              "      <td>197.69</td>\n",
              "      <td>0.0</td>\n",
              "      <td>conventional</td>\n",
              "      <td>2015</td>\n",
              "      <td>Albany</td>\n",
              "    </tr>\n",
              "  </tbody>\n",
              "</table>\n",
              "</div>\n",
              "      <button class=\"colab-df-convert\" onclick=\"convertToInteractive('df-e2330bd4-ca73-47f1-bc0f-a5a631385d54')\"\n",
              "              title=\"Convert this dataframe to an interactive table.\"\n",
              "              style=\"display:none;\">\n",
              "        \n",
              "  <svg xmlns=\"http://www.w3.org/2000/svg\" height=\"24px\"viewBox=\"0 0 24 24\"\n",
              "       width=\"24px\">\n",
              "    <path d=\"M0 0h24v24H0V0z\" fill=\"none\"/>\n",
              "    <path d=\"M18.56 5.44l.94 2.06.94-2.06 2.06-.94-2.06-.94-.94-2.06-.94 2.06-2.06.94zm-11 1L8.5 8.5l.94-2.06 2.06-.94-2.06-.94L8.5 2.5l-.94 2.06-2.06.94zm10 10l.94 2.06.94-2.06 2.06-.94-2.06-.94-.94-2.06-.94 2.06-2.06.94z\"/><path d=\"M17.41 7.96l-1.37-1.37c-.4-.4-.92-.59-1.43-.59-.52 0-1.04.2-1.43.59L10.3 9.45l-7.72 7.72c-.78.78-.78 2.05 0 2.83L4 21.41c.39.39.9.59 1.41.59.51 0 1.02-.2 1.41-.59l7.78-7.78 2.81-2.81c.8-.78.8-2.07 0-2.86zM5.41 20L4 18.59l7.72-7.72 1.47 1.35L5.41 20z\"/>\n",
              "  </svg>\n",
              "      </button>\n",
              "      \n",
              "  <style>\n",
              "    .colab-df-container {\n",
              "      display:flex;\n",
              "      flex-wrap:wrap;\n",
              "      gap: 12px;\n",
              "    }\n",
              "\n",
              "    .colab-df-convert {\n",
              "      background-color: #E8F0FE;\n",
              "      border: none;\n",
              "      border-radius: 50%;\n",
              "      cursor: pointer;\n",
              "      display: none;\n",
              "      fill: #1967D2;\n",
              "      height: 32px;\n",
              "      padding: 0 0 0 0;\n",
              "      width: 32px;\n",
              "    }\n",
              "\n",
              "    .colab-df-convert:hover {\n",
              "      background-color: #E2EBFA;\n",
              "      box-shadow: 0px 1px 2px rgba(60, 64, 67, 0.3), 0px 1px 3px 1px rgba(60, 64, 67, 0.15);\n",
              "      fill: #174EA6;\n",
              "    }\n",
              "\n",
              "    [theme=dark] .colab-df-convert {\n",
              "      background-color: #3B4455;\n",
              "      fill: #D2E3FC;\n",
              "    }\n",
              "\n",
              "    [theme=dark] .colab-df-convert:hover {\n",
              "      background-color: #434B5C;\n",
              "      box-shadow: 0px 1px 3px 1px rgba(0, 0, 0, 0.15);\n",
              "      filter: drop-shadow(0px 1px 2px rgba(0, 0, 0, 0.3));\n",
              "      fill: #FFFFFF;\n",
              "    }\n",
              "  </style>\n",
              "\n",
              "      <script>\n",
              "        const buttonEl =\n",
              "          document.querySelector('#df-e2330bd4-ca73-47f1-bc0f-a5a631385d54 button.colab-df-convert');\n",
              "        buttonEl.style.display =\n",
              "          google.colab.kernel.accessAllowed ? 'block' : 'none';\n",
              "\n",
              "        async function convertToInteractive(key) {\n",
              "          const element = document.querySelector('#df-e2330bd4-ca73-47f1-bc0f-a5a631385d54');\n",
              "          const dataTable =\n",
              "            await google.colab.kernel.invokeFunction('convertToInteractive',\n",
              "                                                     [key], {});\n",
              "          if (!dataTable) return;\n",
              "\n",
              "          const docLinkHtml = 'Like what you see? Visit the ' +\n",
              "            '<a target=\"_blank\" href=https://colab.research.google.com/notebooks/data_table.ipynb>data table notebook</a>'\n",
              "            + ' to learn more about interactive tables.';\n",
              "          element.innerHTML = '';\n",
              "          dataTable['output_type'] = 'display_data';\n",
              "          await google.colab.output.renderOutput(dataTable, element);\n",
              "          const docLink = document.createElement('div');\n",
              "          docLink.innerHTML = docLinkHtml;\n",
              "          element.appendChild(docLink);\n",
              "        }\n",
              "      </script>\n",
              "    </div>\n",
              "  </div>\n",
              "  "
            ]
          },
          "metadata": {},
          "execution_count": 6
        }
      ]
    },
    {
      "cell_type": "code",
      "source": [
        "import sklearn\n",
        "import pandas\n",
        "from sklearn import tree\n",
        "from sklearn.model_selection import train_test_split\n",
        "from sklearn import metrics\n",
        "from sklearn import neighbors\n",
        "from sklearn.preprocessing import StandardScaler\n",
        "from sklearn.ensemble import RandomForestRegressor\n",
        "\n",
        "\n",
        "\n",
        "\n",
        "target= ['Total Volume']\n",
        "predictors = ['AveragePrice', '4046', '4225',\n",
        "       '4770', 'Total Bags', 'Small Bags', 'Large Bags', 'XLarge Bags',\n",
        "       'year']\n",
        "train_data, test_data, train_sln, test_sln = train_test_split(avocado_data[predictors], avocado_data[target])\n",
        "train_data.head()"
      ],
      "metadata": {
        "colab": {
          "base_uri": "https://localhost:8080/",
          "height": 206
        },
        "id": "Efq2ZPWtYKLf",
        "outputId": "4f1e2b7e-b0c3-4432-be28-b529744df624"
      },
      "execution_count": 32,
      "outputs": [
        {
          "output_type": "execute_result",
          "data": {
            "text/plain": [
              "       AveragePrice       4046      4225      4770  Total Bags  Small Bags  \\\n",
              "17348          1.35      74.88     74.94      0.00     5039.69     5039.69   \n",
              "9931           1.54    3459.78  64726.47      0.00    18101.82     6963.33   \n",
              "13059          1.51    4463.69   6588.39      0.00     2176.85      786.59   \n",
              "709            1.11  177872.77  42422.72  48825.24    91797.23    87986.35   \n",
              "11340          1.54   15942.89   8626.08      0.00       12.49       12.49   \n",
              "\n",
              "       Large Bags  XLarge Bags  year  \n",
              "17348        0.00         0.00  2017  \n",
              "9931     11138.49         0.00  2015  \n",
              "13059     1390.26         0.00  2016  \n",
              "709       1880.03      1930.85  2015  \n",
              "11340        0.00         0.00  2015  "
            ],
            "text/html": [
              "\n",
              "  <div id=\"df-e83ceed5-cbc6-4186-beea-f0024784b0f1\">\n",
              "    <div class=\"colab-df-container\">\n",
              "      <div>\n",
              "<style scoped>\n",
              "    .dataframe tbody tr th:only-of-type {\n",
              "        vertical-align: middle;\n",
              "    }\n",
              "\n",
              "    .dataframe tbody tr th {\n",
              "        vertical-align: top;\n",
              "    }\n",
              "\n",
              "    .dataframe thead th {\n",
              "        text-align: right;\n",
              "    }\n",
              "</style>\n",
              "<table border=\"1\" class=\"dataframe\">\n",
              "  <thead>\n",
              "    <tr style=\"text-align: right;\">\n",
              "      <th></th>\n",
              "      <th>AveragePrice</th>\n",
              "      <th>4046</th>\n",
              "      <th>4225</th>\n",
              "      <th>4770</th>\n",
              "      <th>Total Bags</th>\n",
              "      <th>Small Bags</th>\n",
              "      <th>Large Bags</th>\n",
              "      <th>XLarge Bags</th>\n",
              "      <th>year</th>\n",
              "    </tr>\n",
              "  </thead>\n",
              "  <tbody>\n",
              "    <tr>\n",
              "      <th>17348</th>\n",
              "      <td>1.35</td>\n",
              "      <td>74.88</td>\n",
              "      <td>74.94</td>\n",
              "      <td>0.00</td>\n",
              "      <td>5039.69</td>\n",
              "      <td>5039.69</td>\n",
              "      <td>0.00</td>\n",
              "      <td>0.00</td>\n",
              "      <td>2017</td>\n",
              "    </tr>\n",
              "    <tr>\n",
              "      <th>9931</th>\n",
              "      <td>1.54</td>\n",
              "      <td>3459.78</td>\n",
              "      <td>64726.47</td>\n",
              "      <td>0.00</td>\n",
              "      <td>18101.82</td>\n",
              "      <td>6963.33</td>\n",
              "      <td>11138.49</td>\n",
              "      <td>0.00</td>\n",
              "      <td>2015</td>\n",
              "    </tr>\n",
              "    <tr>\n",
              "      <th>13059</th>\n",
              "      <td>1.51</td>\n",
              "      <td>4463.69</td>\n",
              "      <td>6588.39</td>\n",
              "      <td>0.00</td>\n",
              "      <td>2176.85</td>\n",
              "      <td>786.59</td>\n",
              "      <td>1390.26</td>\n",
              "      <td>0.00</td>\n",
              "      <td>2016</td>\n",
              "    </tr>\n",
              "    <tr>\n",
              "      <th>709</th>\n",
              "      <td>1.11</td>\n",
              "      <td>177872.77</td>\n",
              "      <td>42422.72</td>\n",
              "      <td>48825.24</td>\n",
              "      <td>91797.23</td>\n",
              "      <td>87986.35</td>\n",
              "      <td>1880.03</td>\n",
              "      <td>1930.85</td>\n",
              "      <td>2015</td>\n",
              "    </tr>\n",
              "    <tr>\n",
              "      <th>11340</th>\n",
              "      <td>1.54</td>\n",
              "      <td>15942.89</td>\n",
              "      <td>8626.08</td>\n",
              "      <td>0.00</td>\n",
              "      <td>12.49</td>\n",
              "      <td>12.49</td>\n",
              "      <td>0.00</td>\n",
              "      <td>0.00</td>\n",
              "      <td>2015</td>\n",
              "    </tr>\n",
              "  </tbody>\n",
              "</table>\n",
              "</div>\n",
              "      <button class=\"colab-df-convert\" onclick=\"convertToInteractive('df-e83ceed5-cbc6-4186-beea-f0024784b0f1')\"\n",
              "              title=\"Convert this dataframe to an interactive table.\"\n",
              "              style=\"display:none;\">\n",
              "        \n",
              "  <svg xmlns=\"http://www.w3.org/2000/svg\" height=\"24px\"viewBox=\"0 0 24 24\"\n",
              "       width=\"24px\">\n",
              "    <path d=\"M0 0h24v24H0V0z\" fill=\"none\"/>\n",
              "    <path d=\"M18.56 5.44l.94 2.06.94-2.06 2.06-.94-2.06-.94-.94-2.06-.94 2.06-2.06.94zm-11 1L8.5 8.5l.94-2.06 2.06-.94-2.06-.94L8.5 2.5l-.94 2.06-2.06.94zm10 10l.94 2.06.94-2.06 2.06-.94-2.06-.94-.94-2.06-.94 2.06-2.06.94z\"/><path d=\"M17.41 7.96l-1.37-1.37c-.4-.4-.92-.59-1.43-.59-.52 0-1.04.2-1.43.59L10.3 9.45l-7.72 7.72c-.78.78-.78 2.05 0 2.83L4 21.41c.39.39.9.59 1.41.59.51 0 1.02-.2 1.41-.59l7.78-7.78 2.81-2.81c.8-.78.8-2.07 0-2.86zM5.41 20L4 18.59l7.72-7.72 1.47 1.35L5.41 20z\"/>\n",
              "  </svg>\n",
              "      </button>\n",
              "      \n",
              "  <style>\n",
              "    .colab-df-container {\n",
              "      display:flex;\n",
              "      flex-wrap:wrap;\n",
              "      gap: 12px;\n",
              "    }\n",
              "\n",
              "    .colab-df-convert {\n",
              "      background-color: #E8F0FE;\n",
              "      border: none;\n",
              "      border-radius: 50%;\n",
              "      cursor: pointer;\n",
              "      display: none;\n",
              "      fill: #1967D2;\n",
              "      height: 32px;\n",
              "      padding: 0 0 0 0;\n",
              "      width: 32px;\n",
              "    }\n",
              "\n",
              "    .colab-df-convert:hover {\n",
              "      background-color: #E2EBFA;\n",
              "      box-shadow: 0px 1px 2px rgba(60, 64, 67, 0.3), 0px 1px 3px 1px rgba(60, 64, 67, 0.15);\n",
              "      fill: #174EA6;\n",
              "    }\n",
              "\n",
              "    [theme=dark] .colab-df-convert {\n",
              "      background-color: #3B4455;\n",
              "      fill: #D2E3FC;\n",
              "    }\n",
              "\n",
              "    [theme=dark] .colab-df-convert:hover {\n",
              "      background-color: #434B5C;\n",
              "      box-shadow: 0px 1px 3px 1px rgba(0, 0, 0, 0.15);\n",
              "      filter: drop-shadow(0px 1px 2px rgba(0, 0, 0, 0.3));\n",
              "      fill: #FFFFFF;\n",
              "    }\n",
              "  </style>\n",
              "\n",
              "      <script>\n",
              "        const buttonEl =\n",
              "          document.querySelector('#df-e83ceed5-cbc6-4186-beea-f0024784b0f1 button.colab-df-convert');\n",
              "        buttonEl.style.display =\n",
              "          google.colab.kernel.accessAllowed ? 'block' : 'none';\n",
              "\n",
              "        async function convertToInteractive(key) {\n",
              "          const element = document.querySelector('#df-e83ceed5-cbc6-4186-beea-f0024784b0f1');\n",
              "          const dataTable =\n",
              "            await google.colab.kernel.invokeFunction('convertToInteractive',\n",
              "                                                     [key], {});\n",
              "          if (!dataTable) return;\n",
              "\n",
              "          const docLinkHtml = 'Like what you see? Visit the ' +\n",
              "            '<a target=\"_blank\" href=https://colab.research.google.com/notebooks/data_table.ipynb>data table notebook</a>'\n",
              "            + ' to learn more about interactive tables.';\n",
              "          element.innerHTML = '';\n",
              "          dataTable['output_type'] = 'display_data';\n",
              "          await google.colab.output.renderOutput(dataTable, element);\n",
              "          const docLink = document.createElement('div');\n",
              "          docLink.innerHTML = docLinkHtml;\n",
              "          element.appendChild(docLink);\n",
              "        }\n",
              "      </script>\n",
              "    </div>\n",
              "  </div>\n",
              "  "
            ]
          },
          "metadata": {},
          "execution_count": 32
        }
      ]
    },
    {
      "cell_type": "code",
      "source": [
        "print(avocado_data.dtypes)"
      ],
      "metadata": {
        "colab": {
          "base_uri": "https://localhost:8080/"
        },
        "id": "p_lATghuearx",
        "outputId": "e384eba5-0a5a-4378-9071-3de89749a687"
      },
      "execution_count": 10,
      "outputs": [
        {
          "output_type": "stream",
          "name": "stdout",
          "text": [
            "Date             object\n",
            "AveragePrice    float64\n",
            "Total Volume    float64\n",
            "4046            float64\n",
            "4225            float64\n",
            "4770            float64\n",
            "Total Bags      float64\n",
            "Small Bags      float64\n",
            "Large Bags      float64\n",
            "XLarge Bags     float64\n",
            "type             object\n",
            "year              int64\n",
            "region           object\n",
            "dtype: object\n"
          ]
        }
      ]
    },
    {
      "cell_type": "code",
      "source": [
        "from sklearn.preprocessing import StandardScaler\n",
        "scaler = StandardScaler()\n",
        "scaler.fit(train_data)\n",
        "train_data_normalized = scaler.transform(train_data)\n",
        "test_data_normalized = scaler.transform(test_data)\n",
        "train_data_normalized\n",
        "\n"
      ],
      "metadata": {
        "colab": {
          "base_uri": "https://localhost:8080/"
        },
        "id": "RzW0siUwdTDX",
        "outputId": "6544defd-7f76-4d38-b31e-195048b55465"
      },
      "execution_count": 33,
      "outputs": [
        {
          "output_type": "execute_result",
          "data": {
            "text/plain": [
              "array([[-0.14437643, -0.23231155, -0.24452897, ..., -0.21997092,\n",
              "        -0.17329379,  0.89825016],\n",
              "       [ 0.3260491 , -0.22961212, -0.19002002, ..., -0.17444958,\n",
              "        -0.17329379, -1.22442128],\n",
              "       [ 0.25177139, -0.22881151, -0.23903735, ..., -0.21428913,\n",
              "        -0.17329379, -0.16308556],\n",
              "       ...,\n",
              "       [ 0.30128986, -0.23203747, -0.24452962, ..., -0.21997092,\n",
              "        -0.17329379, -1.22442128],\n",
              "       [-0.46624653, -0.23186368, -0.23573716, ..., -0.08509514,\n",
              "        -0.17329379,  0.89825016],\n",
              "       [-0.39196881, -0.22995895, -0.15985026, ..., -0.15962629,\n",
              "        -0.16889184, -1.22442128]])"
            ]
          },
          "metadata": {},
          "execution_count": 33
        }
      ]
    },
    {
      "cell_type": "markdown",
      "source": [
        "# 3. Research\n",
        "\n",
        "Put your code and your experiments here."
      ],
      "metadata": {
        "id": "Hc7HMmNPR10W"
      }
    },
    {
      "cell_type": "code",
      "source": [
        "# code goes here... don't forget to include graphs. Professor Urness loves graphs.\n",
        "# build and test a baseline model here\n",
        "from sklearn.dummy import DummyRegressor\n",
        "from sklearn.model_selection import train_test_split\n",
        "from sklearn.metrics import accuracy_score\n",
        "\n",
        "\n",
        "dummy_reg = DummyRegressor(strategy='mean') #make random guesses\n",
        "dummy_reg.fit(train_data, train_sln)\n",
        "preds = dummy_reg.predict(test_data)\n",
        "\n",
        "\n",
        "print('MSE: ', metrics.mean_squared_error(test_sln, preds))"
      ],
      "metadata": {
        "id": "XfaACsEOR4U5",
        "colab": {
          "base_uri": "https://localhost:8080/"
        },
        "outputId": "4dbc9e5e-764b-4b57-d742-76d9526f58e9"
      },
      "execution_count": 34,
      "outputs": [
        {
          "output_type": "stream",
          "name": "stdout",
          "text": [
            "MSE:  12356366441384.111\n"
          ]
        }
      ]
    },
    {
      "cell_type": "code",
      "source": [
        "#Non-Normaized kNN\n",
        "neigh = neighbors.KNeighborsRegressor(weights='uniform')\n",
        "neigh.fit(train_data, train_sln)\n",
        "predictions = neigh.predict(test_data)\n",
        "print('MSE: ', metrics.mean_squared_error(test_sln, predictions))"
      ],
      "metadata": {
        "colab": {
          "base_uri": "https://localhost:8080/"
        },
        "id": "fMzWMkDjnyoy",
        "outputId": "57739e14-1a2f-4ca7-facf-7da9acb5f2ed"
      },
      "execution_count": 35,
      "outputs": [
        {
          "output_type": "stream",
          "name": "stdout",
          "text": [
            "MSE:  25149139459.059788\n"
          ]
        }
      ]
    },
    {
      "cell_type": "code",
      "source": [
        "#Normaized kNN\n",
        "neigh = neighbors.KNeighborsRegressor(weights='uniform')\n",
        "neigh.fit(train_data_normalized, train_sln)\n",
        "predictions = neigh.predict(test_data_normalized)\n",
        "print('MSE: ', metrics.mean_squared_error(test_sln, predictions))"
      ],
      "metadata": {
        "colab": {
          "base_uri": "https://localhost:8080/"
        },
        "id": "jjdCJEU0oAJ-",
        "outputId": "f29f098b-4879-4b60-ceea-bbbe1294ec47"
      },
      "execution_count": 36,
      "outputs": [
        {
          "output_type": "stream",
          "name": "stdout",
          "text": [
            "MSE:  66701186393.14055\n"
          ]
        }
      ]
    },
    {
      "cell_type": "code",
      "source": [
        "#Normalized kNN with a Parameter tuned\n",
        "neigh = neighbors.KNeighborsRegressor(n_neighbors=4, weights='uniform')\n",
        "neigh.fit(train_data_normalized, train_sln)\n",
        "predictions = neigh.predict(test_data_normalized)\n",
        "print('MSE: ', metrics.mean_squared_error(test_sln, predictions))"
      ],
      "metadata": {
        "colab": {
          "base_uri": "https://localhost:8080/"
        },
        "id": "an--81apobf3",
        "outputId": "8e59ce62-0bb9-4ad8-b313-bba50ff5d313"
      },
      "execution_count": 40,
      "outputs": [
        {
          "output_type": "stream",
          "name": "stdout",
          "text": [
            "MSE:  57389282473.024124\n"
          ]
        }
      ]
    },
    {
      "cell_type": "code",
      "source": [
        "#Non-Normaized w-kNN\n",
        "neigh = neighbors.KNeighborsRegressor(weights='distance')\n",
        "neigh.fit(train_data, train_sln)\n",
        "predictions = neigh.predict(test_data)\n",
        "\n",
        "print('MSE: ', metrics.mean_squared_error(test_sln, predictions))"
      ],
      "metadata": {
        "colab": {
          "base_uri": "https://localhost:8080/"
        },
        "id": "EOVEypfLoFqO",
        "outputId": "2a1901a4-9c2e-4abe-c178-1a3fdbb8f0fc"
      },
      "execution_count": 37,
      "outputs": [
        {
          "output_type": "stream",
          "name": "stdout",
          "text": [
            "MSE:  20353326537.1649\n"
          ]
        }
      ]
    },
    {
      "cell_type": "code",
      "source": [
        "#Normaized w-kNN\n",
        "neigh = neighbors.KNeighborsRegressor(weights='distance')\n",
        "neigh.fit(train_data_normalized, train_sln)\n",
        "predictions = neigh.predict(test_data_normalized)\n",
        "print('MSE: ', metrics.mean_squared_error(test_sln, predictions))"
      ],
      "metadata": {
        "colab": {
          "base_uri": "https://localhost:8080/"
        },
        "id": "SqUgo_fooL9Y",
        "outputId": "d9c8c69e-dd25-4b80-cb1e-c86a7c8a62c6"
      },
      "execution_count": 38,
      "outputs": [
        {
          "output_type": "stream",
          "name": "stdout",
          "text": [
            "MSE:  59210720113.465866\n"
          ]
        }
      ]
    },
    {
      "cell_type": "code",
      "source": [
        "#Normalized w-kNN with a Parameter tuned\n",
        "neigh = neighbors.KNeighborsRegressor(n_neighbors=9, weights='distance')\n",
        "neigh.fit(train_data_normalized, train_sln)\n",
        "predictions = neigh.predict(test_data_normalized)\n",
        "\n",
        "print('MSE: ', metrics.mean_squared_error(test_sln, predictions))"
      ],
      "metadata": {
        "colab": {
          "base_uri": "https://localhost:8080/"
        },
        "id": "U8k1SZxDov6p",
        "outputId": "74652fb2-91ca-49d3-97af-5c4f6211ea3a"
      },
      "execution_count": 41,
      "outputs": [
        {
          "output_type": "stream",
          "name": "stdout",
          "text": [
            "MSE:  69042955608.95657\n"
          ]
        }
      ]
    },
    {
      "cell_type": "code",
      "source": [
        "#Non-Normaized decision tree\n",
        "dtr = tree.DecisionTreeRegressor()\n",
        "dtr.fit(train_data, train_sln)\n",
        "dtr_preds = dtr.predict(test_data)\n",
        "\n",
        "print('MSE: ', metrics.mean_squared_error(dtr_preds,test_sln))"
      ],
      "metadata": {
        "colab": {
          "base_uri": "https://localhost:8080/"
        },
        "id": "6oQ6lzsdpG4d",
        "outputId": "0091af7b-e3a2-461b-8778-7d536f13defd"
      },
      "execution_count": 42,
      "outputs": [
        {
          "output_type": "stream",
          "name": "stdout",
          "text": [
            "MSE:  62311268822.947105\n"
          ]
        }
      ]
    },
    {
      "cell_type": "code",
      "source": [
        "#Normaized decision tree\n",
        "ndtr = tree.DecisionTreeRegressor()\n",
        "ndtr.fit(train_data_normalized, train_sln)\n",
        "ndtr_preds = dtr.predict(test_data_normalized)\n",
        "\n",
        "print('MSE: ', metrics.mean_squared_error(ndtr_preds,test_sln))"
      ],
      "metadata": {
        "colab": {
          "base_uri": "https://localhost:8080/"
        },
        "id": "HRaIv0FspH60",
        "outputId": "c2786e05-69ce-4d22-b3c5-0d414eabbd1f"
      },
      "execution_count": 43,
      "outputs": [
        {
          "output_type": "stream",
          "name": "stdout",
          "text": [
            "MSE:  13121625088137.414\n"
          ]
        },
        {
          "output_type": "stream",
          "name": "stderr",
          "text": [
            "/usr/local/lib/python3.8/dist-packages/sklearn/base.py:450: UserWarning: X does not have valid feature names, but DecisionTreeRegressor was fitted with feature names\n",
            "  warnings.warn(\n"
          ]
        }
      ]
    },
    {
      "cell_type": "code",
      "source": [
        "#Normalized Decision tree with a parameter tuned\n",
        "smol_dtr = tree.DecisionTreeRegressor(max_depth=3)\n",
        "smol_dtr.fit(train_data_normalized, train_sln)\n",
        "predictions = smol_dtr.predict(test_data_normalized)\n",
        "\n",
        "\n",
        "print('MSE: ', metrics.mean_squared_error(predictions,test_sln))"
      ],
      "metadata": {
        "colab": {
          "base_uri": "https://localhost:8080/"
        },
        "id": "HRkZMqg0pL8L",
        "outputId": "4b60216f-2c9e-4bbd-a5d7-6c07ed1e96f4"
      },
      "execution_count": 44,
      "outputs": [
        {
          "output_type": "stream",
          "name": "stdout",
          "text": [
            "MSE:  309281958098.283\n"
          ]
        }
      ]
    },
    {
      "cell_type": "code",
      "source": [
        "#Non-Normaized random forest\n",
        "forest = RandomForestRegressor()\n",
        "\n",
        "forest.fit(train_data,train_sln)\n",
        "predictions = forest.predict(test_data)\n",
        "print('MSE: ', metrics.mean_squared_error(test_sln, predictions))"
      ],
      "metadata": {
        "colab": {
          "base_uri": "https://localhost:8080/"
        },
        "id": "xgiawVa8pYOi",
        "outputId": "92e9c29d-a567-402b-d3f8-23a7ca910e2e"
      },
      "execution_count": 45,
      "outputs": [
        {
          "output_type": "stream",
          "name": "stderr",
          "text": [
            "<ipython-input-45-8b440a429397>:4: DataConversionWarning: A column-vector y was passed when a 1d array was expected. Please change the shape of y to (n_samples,), for example using ravel().\n",
            "  forest.fit(train_data,train_sln)\n"
          ]
        },
        {
          "output_type": "stream",
          "name": "stdout",
          "text": [
            "MSE:  34127233254.606762\n"
          ]
        }
      ]
    },
    {
      "cell_type": "code",
      "source": [
        "#Normaized random forest\n",
        "forest = RandomForestRegressor()\n",
        "\n",
        "forest.fit(train_data_normalized,train_sln)\n",
        "predictions = forest.predict(test_data_normalized)\n",
        "print('MSE: ', metrics.mean_squared_error(test_sln, predictions))"
      ],
      "metadata": {
        "colab": {
          "base_uri": "https://localhost:8080/"
        },
        "id": "OKxWBKy1pmKh",
        "outputId": "aac1bd58-240b-4e50-ed2c-df74a03ee85c"
      },
      "execution_count": 46,
      "outputs": [
        {
          "output_type": "stream",
          "name": "stderr",
          "text": [
            "<ipython-input-46-d8cfa9d953a1>:4: DataConversionWarning: A column-vector y was passed when a 1d array was expected. Please change the shape of y to (n_samples,), for example using ravel().\n",
            "  forest.fit(train_data_normalized,train_sln)\n"
          ]
        },
        {
          "output_type": "stream",
          "name": "stdout",
          "text": [
            "MSE:  30820626524.174755\n"
          ]
        }
      ]
    },
    {
      "cell_type": "code",
      "source": [
        "#Normalized Random forest with a parameter tuned\n",
        "\n",
        "forest = RandomForestRegressor(n_estimators=37)\n",
        "\n",
        "\n",
        "forest.fit(train_data_normalized,train_sln)\n",
        "predictions = forest.predict(test_data_normalized)\n",
        "\n",
        "print('MSE: ', metrics.mean_squared_error(test_sln, predictions))"
      ],
      "metadata": {
        "colab": {
          "base_uri": "https://localhost:8080/"
        },
        "id": "gLDJV4mopnty",
        "outputId": "c60c9918-5f74-4a52-ac10-6589592c0263"
      },
      "execution_count": 47,
      "outputs": [
        {
          "output_type": "stream",
          "name": "stderr",
          "text": [
            "<ipython-input-47-3f2d2ace5efa>:6: DataConversionWarning: A column-vector y was passed when a 1d array was expected. Please change the shape of y to (n_samples,), for example using ravel().\n",
            "  forest.fit(train_data_normalized,train_sln)\n"
          ]
        },
        {
          "output_type": "stream",
          "name": "stdout",
          "text": [
            "MSE:  35472326203.02484\n"
          ]
        }
      ]
    },
    {
      "cell_type": "code",
      "source": [
        "import matplotlib.pyplot as plt\n",
        "%matplotlib inline\n",
        "\n",
        "index = range(len(predictors)) #creates a list of numbers the right size to use as the index\n",
        "\n",
        "plt.figure(figsize=(8,10)) #making the table a bit bigger so the text is readable\n",
        "plt.barh(index,forest.feature_importances_,height=0.8) #horizontal bar chart\n",
        "plt.ylabel('Feature')\n",
        "plt.yticks(index,predictors) #put the feature names at the y tick marks\n",
        "plt.xlabel(\"Random Forest Feature Importance\")\n",
        "plt.show()\n",
        "\n"
      ],
      "metadata": {
        "colab": {
          "base_uri": "https://localhost:8080/",
          "height": 606
        },
        "id": "TMsUv33Vp53a",
        "outputId": "33f3e0c2-ccd9-45da-e576-ce8903a0c25c"
      },
      "execution_count": 60,
      "outputs": [
        {
          "output_type": "display_data",
          "data": {
            "text/plain": [
              "<Figure size 576x720 with 1 Axes>"
            ],
            "image/png": "[encoded data removed]"
          },
          "metadata": {
            "needs_background": "light"
          }
        }
      ]
    },
    {
      "cell_type": "markdown",
      "source": [
        "#4. Analysis\n",
        "\n",
        "What did you discover? What insights/recommendations do you have? What did you find that was interesting? Which model was your best model, which models didn't work well? Why do you think this is? In general, I want a discussion of your experiment, the results, and what they mean."
      ],
      "metadata": {
        "id": "2Qu9bYPLmiv_"
      }
    },
    {
      "cell_type": "markdown",
      "source": [
        "Dummy Regressor MSE:  12356366441384.111\n",
        "\n",
        "\n",
        "| **Model**     | **Non-Normalized** | **Normalized** | **Parameter Tuned** |\n",
        "|---------------|--------------------|----------------|---------------------|\n",
        "| kNN           |25149139459.059788 |66701186393.14055|69042955608.95657    |\n",
        "| w-kNN   |20353326537.1649|69042955608.95657|69042955608.95657|\n",
        "| decision tree |62311268822.947105|13121625088137.414|309281958098.283|\n",
        "|random forest|34127233254.606762|30820626524.174755|35472326203.02484|"
      ],
      "metadata": {
        "id": "76ZbzzF37B4m"
      }
    },
    {
      "cell_type": "markdown",
      "source": [
        "The feature importance chart is the most useful tool in answering the research question posed at the begining of the project. My research question for this project was to predict which variable most significntly predicts the total number of avocados sold. The feature importance chart shows that totla bags sold and number of medium avoados are the biggest predictors of total number of avocados sold. I am surprised that price per avocado didn't play a larger role. In fact, the feature importance chart claims that it plays no role in the number of avocados sold.\n",
        "\n",
        "I thought it was interesting that MSEs for all models were incredibly high. The lowest MSE belonged to the non-normalized weighted k nearest neighbrs algorithm. The worst in this series of modes was the normalized decision tree. This was an even higher (worse) MSE than the MSE rom the dummy regressor. This means that that particular model was less efficiant than randomly guessing. \n",
        "The third worst after those two as the normalized decision tree with the parameter tuned. The Res of the MSEs were relatively similar with 11 numbers before the decimal. One message that can clearly be taken from this data is that normalizing the decision trees are counterproductive and degrade the quality of the model.\n",
        "\n",
        "It is hard to draw more definitive conclusions from this set of models besides the answer to the primary research question. In future projects, I would explore different possibilities for the target variable. I is also possible that this dataset is simply not suited for these types of machine learning models."
      ],
      "metadata": {
        "id": "k17sKBZUmqIH"
      }
    },
    {
      "cell_type": "markdown",
      "source": [
        "# 5. Bumps in the Road\n",
        "What challenges did you encounter? How did you overcome these challenges?"
      ],
      "metadata": {
        "id": "TemAuKxlm6dQ"
      }
    },
    {
      "cell_type": "markdown",
      "source": [
        "When I was trying to normlize the data, I had trouble with needing to convert string data to float. I used this website to try to fix the issue, but I couldn't figure it out, so I'm going to switch to the avocado dataset because all the values there are numbers and I will hopefully not run into this issue.\n",
        "https://www.statology.org/pandas-could-not-convert-string-to-float/ \n",
        "\n",
        "Update: I ran into the issue, so I am just going to drop all the columns that are giving me this issue in the name of the greater good and getting this project done! Hopefully this won't skew my results too much.\n",
        "\n",
        "Unfortunately none of my MSEs are anywhere near 0. However, since it's so late, I'm just going to stick with it.\n",
        "\n",
        "I think I messed up something with this dataset, and although I did my best with it, the results I got aren't very interpretable. I think I made a mistake somewhere, but I'm not sure where or how to fix it. Maybe I picked the wrong varible as my target."
      ],
      "metadata": {
        "id": "zXEVEG9FnHgQ"
      }
    }
  ]
}